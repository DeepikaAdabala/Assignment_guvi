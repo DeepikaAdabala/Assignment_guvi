{
  "nbformat": 4,
  "nbformat_minor": 0,
  "metadata": {
    "colab": {
      "name": "Assignment1.ipynb",
      "provenance": [],
      "authorship_tag": "ABX9TyNv9CGBff+CUwQpv3e287ks",
      "include_colab_link": true
    },
    "kernelspec": {
      "name": "python3",
      "display_name": "Python 3"
    },
    "language_info": {
      "name": "python"
    }
  },
  "cells": [
    {
      "cell_type": "markdown",
      "metadata": {
        "id": "view-in-github",
        "colab_type": "text"
      },
      "source": [
        "<a href=\"https://colab.research.google.com/github/DeepikaAdabala/Assignment_guvi/blob/main/Assignment1.ipynb\" target=\"_parent\"><img src=\"https://colab.research.google.com/assets/colab-badge.svg\" alt=\"Open In Colab\"/></a>"
      ]
    },
    {
      "cell_type": "code",
      "execution_count": null,
      "metadata": {
        "colab": {
          "base_uri": "https://localhost:8080/"
        },
        "id": "z-5u4JiMiav1",
        "outputId": "d982e86a-d28e-4fc4-f391-a8de3c74e6c3"
      },
      "outputs": [
        {
          "output_type": "stream",
          "name": "stdout",
          "text": [
            "deepika\n",
            "adabala\n",
            "123467890\n",
            "abcd@gmail.com\n",
            "Please enter the inputs again.\n",
            "Make sure that:\n",
            "    1. You don't have any constrains to input name.\n",
            "    2. Your mobile number must consists of numbers only and the length must be exactly 10.\n",
            "    3. Your gmail must be made out of a combination of alphabets and numbers,as well as must end with '@gmail.com'\n"
          ]
        }
      ],
      "source": [
        "fname=input()                                                                 \n",
        "lname=input()                                                               \n",
        "mob=input()                                                       \n",
        "gmail=input()                                                        \n",
        "fname=fname.capitalize()                                                 \n",
        "lname=lname.capitalize()                                                    \n",
        "gmail=gmail.lower()\n",
        "if mob.isdigit()==True and len(mob)==10 and gmail.endswith(\"@gmail.com\") and gmail[:-10].isalnum()==True:         \n",
        "        print(fname)\n",
        "        print(lname)\n",
        "        print(mob)\n",
        "        print(gmail)\n",
        "else:                                                                          \n",
        "    print(\"Please enter the inputs again.\")\n",
        "    print(\"\"\"Make sure that:\n",
        "    1. You don't have any constrains to input name.\n",
        "    2. Your mobile number must consists of numbers only and the length must be exactly 10.\n",
        "    3. Your gmail must be made out of a combination of alphabets and numbers,as well as must end with \\'@gmail.com\\'\"\"\")       "
      ]
    },
    {
      "cell_type": "code",
      "source": [
        ""
      ],
      "metadata": {
        "id": "uQKQk9KbjgSa"
      },
      "execution_count": null,
      "outputs": []
    }
  ]
}