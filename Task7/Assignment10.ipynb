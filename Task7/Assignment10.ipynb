{
  "nbformat": 4,
  "nbformat_minor": 0,
  "metadata": {
    "colab": {
      "name": "Assignment10.ipynb",
      "provenance": [],
      "authorship_tag": "ABX9TyOASFFLqRV1axA4zG0W8J50",
      "include_colab_link": true
    },
    "kernelspec": {
      "name": "python3",
      "display_name": "Python 3"
    },
    "language_info": {
      "name": "python"
    }
  },
  "cells": [
    {
      "cell_type": "markdown",
      "metadata": {
        "id": "view-in-github",
        "colab_type": "text"
      },
      "source": [
        "<a href=\"https://colab.research.google.com/github/DeepikaAdabala/Assignment_guvi/blob/main/Task7/Assignment10.ipynb\" target=\"_parent\"><img src=\"https://colab.research.google.com/assets/colab-badge.svg\" alt=\"Open In Colab\"/></a>"
      ]
    },
    {
      "cell_type": "code",
      "execution_count": 1,
      "metadata": {
        "id": "y21vCTdCNt4C"
      },
      "outputs": [],
      "source": [
        "import pandas as pd\n",
        "import numpy as np\n",
        "import seaborn as sns\n",
        "import matplotlib.pyplot as plt\n",
        "from sklearn.neighbors import KNeighborsClassifier \n",
        "from sklearn.metrics import accuracy_score \n",
        "from sklearn.metrics import classification_report"
      ]
    },
    {
      "cell_type": "code",
      "source": [
        "train = pd.read_csv(\"/content/testKNN.txt\" , header=None,\n",
        "                 names=[\"Id number\", \"RI\", \"Na\", \"Mg\", \"Al\", \"Si\",\"K\",\"Ca\",\"Ba\",'Fe','Type of glass'],index_col='Id number')\n",
        "\n",
        "test = pd.read_csv(\"/content/trainKNN.txt\" , header=None,\n",
        "                 names=[\"Id number\", \"RI\", \"Na\", \"Mg\", \"Al\", \"Si\",\"K\",\"Ca\",\"Ba\",'Fe','Type of glass'],index_col='Id number')"
      ],
      "metadata": {
        "id": "ldwgip_UN0SC"
      },
      "execution_count": 2,
      "outputs": []
    },
    {
      "cell_type": "code",
      "source": [
        "train.isnull().sum()"
      ],
      "metadata": {
        "colab": {
          "base_uri": "https://localhost:8080/"
        },
        "id": "iHJJlENDOALy",
        "outputId": "2154784b-e7f9-4244-a13c-6b6c184c2100"
      },
      "execution_count": 3,
      "outputs": [
        {
          "output_type": "execute_result",
          "data": {
            "text/plain": [
              "RI               0\n",
              "Na               0\n",
              "Mg               0\n",
              "Al               0\n",
              "Si               0\n",
              "K                0\n",
              "Ca               0\n",
              "Ba               0\n",
              "Fe               0\n",
              "Type of glass    0\n",
              "dtype: int64"
            ]
          },
          "metadata": {},
          "execution_count": 3
        }
      ]
    },
    {
      "cell_type": "code",
      "source": [
        "test.isnull().sum()"
      ],
      "metadata": {
        "colab": {
          "base_uri": "https://localhost:8080/"
        },
        "id": "Yi6DF15zOCnF",
        "outputId": "4e833462-11d7-48e5-8382-540af209ccc8"
      },
      "execution_count": 4,
      "outputs": [
        {
          "output_type": "execute_result",
          "data": {
            "text/plain": [
              "RI               0\n",
              "Na               0\n",
              "Mg               0\n",
              "Al               0\n",
              "Si               0\n",
              "K                0\n",
              "Ca               0\n",
              "Ba               0\n",
              "Fe               0\n",
              "Type of glass    0\n",
              "dtype: int64"
            ]
          },
          "metadata": {},
          "execution_count": 4
        }
      ]
    },
    {
      "cell_type": "code",
      "source": [
        "x=train.drop(columns='Type of glass')"
      ],
      "metadata": {
        "id": "Ck0Zz5xFOEtK"
      },
      "execution_count": 5,
      "outputs": []
    },
    {
      "cell_type": "code",
      "source": [
        "for col in x:\n",
        "    skew = train[col].skew()\n",
        "    sns.distplot(train[col],kde=False,label='Skew = %.2f' %(skew),bins=50)\n",
        "    plt.legend(loc='best')\n",
        "    plt.show()"
      ],
      "metadata": {
        "id": "bzgZ26RSOGvU"
      },
      "execution_count": null,
      "outputs": []
    },
    {
      "cell_type": "markdown",
      "source": [
        "Train Model"
      ],
      "metadata": {
        "id": "wmOEPo7nOIpf"
      }
    },
    {
      "cell_type": "code",
      "source": [
        "x_train = train.drop(columns=['Type of glass',],axis=1)\n",
        "\n",
        "x_test = test.drop(columns=['Type of glass'],axis=1)\n",
        "\n",
        "\n",
        "y_train = train['Type of glass']\n",
        "\n",
        "y_test = test['Type of glass']\n",
        "\n",
        "\n",
        "\n"
      ],
      "metadata": {
        "id": "X_REE_sLOKzR"
      },
      "execution_count": 6,
      "outputs": []
    },
    {
      "cell_type": "code",
      "source": [
        "from sklearn.preprocessing import StandardScaler\n",
        "\n",
        "scaler = StandardScaler()\n",
        "\n",
        "x_train = scaler.fit_transform(x_train)\n",
        "x_test = scaler.transform(x_test)"
      ],
      "metadata": {
        "id": "4UsU54z0OY5m"
      },
      "execution_count": 7,
      "outputs": []
    },
    {
      "cell_type": "markdown",
      "source": [
        "Euclidean Metric"
      ],
      "metadata": {
        "id": "PR-5v-DkObCu"
      }
    },
    {
      "cell_type": "code",
      "source": [
        "classifier= KNeighborsClassifier(n_neighbors=5,metric='euclidean', p=2 )  \n",
        "classifier.fit(x_train, y_train)  \n",
        "KNeighborsClassifier(metric='euclidean')\n",
        "euclid_pred = classifier.predict(x_test)\n",
        "euclid_score = accuracy_score(y_test,euclid_pred)\n",
        "euclid_score = euclid_score*100\n",
        "\n",
        "print(\"Accuracy Score of Euclidean Metric : \\t \",euclid_score)"
      ],
      "metadata": {
        "colab": {
          "base_uri": "https://localhost:8080/"
        },
        "id": "i5ll5jISOckx",
        "outputId": "25366447-55c3-4973-81a9-fc294d291d0b"
      },
      "execution_count": 8,
      "outputs": [
        {
          "output_type": "stream",
          "name": "stdout",
          "text": [
            "Accuracy Score of Euclidean Metric : \t  50.0\n"
          ]
        }
      ]
    },
    {
      "cell_type": "code",
      "source": [
        "classifier.score(x_test,y_test)*100"
      ],
      "metadata": {
        "colab": {
          "base_uri": "https://localhost:8080/"
        },
        "id": "Gblt85cyOiNc",
        "outputId": "20d0a17a-e6d3-4ce8-c623-59db969abb22"
      },
      "execution_count": 9,
      "outputs": [
        {
          "output_type": "execute_result",
          "data": {
            "text/plain": [
              "50.0"
            ]
          },
          "metadata": {},
          "execution_count": 9
        }
      ]
    },
    {
      "cell_type": "markdown",
      "source": [
        "**Manhatten Matrix**"
      ],
      "metadata": {
        "id": "3zvToYY8Okdu"
      }
    },
    {
      "cell_type": "code",
      "source": [
        "classifier= KNeighborsClassifier(metric='manhattan')  \n",
        "classifier.fit(x_train, y_train)"
      ],
      "metadata": {
        "colab": {
          "base_uri": "https://localhost:8080/"
        },
        "id": "QAkbImt3Olqp",
        "outputId": "298aea7a-ff6b-4e4d-e6e9-4d866ee16746"
      },
      "execution_count": 10,
      "outputs": [
        {
          "output_type": "execute_result",
          "data": {
            "text/plain": [
              "KNeighborsClassifier(metric='manhattan')"
            ]
          },
          "metadata": {},
          "execution_count": 10
        }
      ]
    },
    {
      "cell_type": "code",
      "source": [
        "manhat_pred = classifier.predict(x_test)\n",
        "manhat_score= accuracy_score(y_test,manhat_pred)*100\n",
        "print(\"Accuracy score of Manhattan metric : \\t \",manhat_score)"
      ],
      "metadata": {
        "colab": {
          "base_uri": "https://localhost:8080/"
        },
        "id": "Vgspnj8ROqom",
        "outputId": "f154e696-d6bf-4943-fbc2-a0e01e4cb1e8"
      },
      "execution_count": 11,
      "outputs": [
        {
          "output_type": "stream",
          "name": "stdout",
          "text": [
            "Accuracy score of Manhattan metric : \t  50.0\n"
          ]
        }
      ]
    },
    {
      "cell_type": "code",
      "source": [
        "print(classification_report(y_test,manhat_pred))"
      ],
      "metadata": {
        "colab": {
          "base_uri": "https://localhost:8080/"
        },
        "id": "1mQhavtrOsmv",
        "outputId": "7b9b16e1-f921-4635-df75-bf90245d9932"
      },
      "execution_count": 12,
      "outputs": [
        {
          "output_type": "stream",
          "name": "stdout",
          "text": [
            "              precision    recall  f1-score   support\n",
            "\n",
            "           1       0.47      0.25      0.33        67\n",
            "           2       0.44      0.74      0.55        73\n",
            "           3       0.00      0.00      0.00        14\n",
            "           5       0.33      0.30      0.32        10\n",
            "           6       1.00      0.33      0.50         6\n",
            "           7       0.96      0.85      0.90        26\n",
            "\n",
            "    accuracy                           0.50       196\n",
            "   macro avg       0.53      0.41      0.43       196\n",
            "weighted avg       0.50      0.50      0.47       196\n",
            "\n"
          ]
        }
      ]
    }
  ]
}